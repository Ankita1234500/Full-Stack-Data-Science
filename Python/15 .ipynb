{
 "cells": [
  {
   "cell_type": "code",
   "execution_count": 1,
   "id": "03022ef7-8eda-49a6-94e0-138fcd8a2144",
   "metadata": {},
   "outputs": [
    {
     "name": "stdout",
     "output_type": "stream",
     "text": [
      "Eligible to vote.\n"
     ]
    }
   ],
   "source": [
    "age=20\n",
    "if age>=18:\n",
    "    print(\"Eligible to vote.\")"
   ]
  },
  {
   "cell_type": "code",
   "execution_count": 2,
   "id": "fbf8af6c-08b6-4289-ad5c-38a56a3cbb8d",
   "metadata": {},
   "outputs": [
    {
     "name": "stdout",
     "output_type": "stream",
     "text": [
      "Eligible to Vote.\n"
     ]
    }
   ],
   "source": [
    "age=19\n",
    "if age>18:print(\"Eligible to Vote.\")"
   ]
  },
  {
   "cell_type": "code",
   "execution_count": 3,
   "id": "e0cda392-a220-4be1-99de-66e7d17713f3",
   "metadata": {},
   "outputs": [
    {
     "name": "stdout",
     "output_type": "stream",
     "text": [
      "Travel for free.\n"
     ]
    }
   ],
   "source": [
    "age=10\n",
    "if age<=12:\n",
    "    print(\"Travel for free.\")\n",
    "else:\n",
    "    print(\"Pay for ticket.\")"
   ]
  },
  {
   "cell_type": "code",
   "execution_count": 4,
   "id": "cbce78fd-4301-4f3c-ab84-ab74bfb72ff3",
   "metadata": {},
   "outputs": [
    {
     "name": "stdout",
     "output_type": "stream",
     "text": [
      "Result:Pass\n"
     ]
    }
   ],
   "source": [
    "marks=45\n",
    "res=\"Pass\" if marks>=40 else\"Fail\"\n",
    "print(f\"Result:{res}\")"
   ]
  },
  {
   "cell_type": "code",
   "execution_count": 6,
   "id": "08e3ed6f-75e7-473d-a1d8-a1487b3e95e8",
   "metadata": {},
   "outputs": [
    {
     "name": "stdout",
     "output_type": "stream",
     "text": [
      "Young adult.\n"
     ]
    }
   ],
   "source": [
    "age=25\n",
    "if age<=12:\n",
    "    print(\"Child.\")\n",
    "elif age<=19:\n",
    "    print(\"Teenager.\")\n",
    "elif age<=35:\n",
    "    print(\"Young adult.\")\n",
    "else:\n",
    "    print(\"Adult.\")"
   ]
  },
  {
   "cell_type": "code",
   "execution_count": 7,
   "id": "1f8d7012-1241-4573-9daa-e7151f018919",
   "metadata": {},
   "outputs": [
    {
     "name": "stdout",
     "output_type": "stream",
     "text": [
      "30% senior discount!\n"
     ]
    }
   ],
   "source": [
    "age=70\n",
    "is_member=True\n",
    "if age>=60:\n",
    "    if is_member:\n",
    "        print(\"30% senior discount!\")"
   ]
  },
  {
   "cell_type": "code",
   "execution_count": 8,
   "id": "c95a9366-838b-48c7-93e6-c967e85eae1f",
   "metadata": {},
   "outputs": [
    {
     "name": "stdout",
     "output_type": "stream",
     "text": [
      "Adult\n"
     ]
    }
   ],
   "source": [
    "age=20\n",
    "s=\"Adult\"if age>=18 else\"Minor\"\n",
    "print(s)"
   ]
  },
  {
   "cell_type": "code",
   "execution_count": 9,
   "id": "6e7f4913-1fd2-46b3-8791-4c6508564d98",
   "metadata": {},
   "outputs": [
    {
     "name": "stdout",
     "output_type": "stream",
     "text": [
      "Two or Three\n"
     ]
    }
   ],
   "source": [
    "number=2\n",
    "match number:\n",
    "    case 1:\n",
    "        print(\"One\")\n",
    "    case 2|3:\n",
    "        print(\"Two or Three\")\n",
    "    case _:\n",
    "        print(\"Other number\")\n",
    "        "
   ]
  },
  {
   "cell_type": "code",
   "execution_count": null,
   "id": "97c8a37b-a691-45ed-b4ed-8348170fe9e5",
   "metadata": {},
   "outputs": [],
   "source": []
  }
 ],
 "metadata": {
  "kernelspec": {
   "display_name": "Python 3 (ipykernel)",
   "language": "python",
   "name": "python3"
  },
  "language_info": {
   "codemirror_mode": {
    "name": "ipython",
    "version": 3
   },
   "file_extension": ".py",
   "mimetype": "text/x-python",
   "name": "python",
   "nbconvert_exporter": "python",
   "pygments_lexer": "ipython3",
   "version": "3.13.5"
  }
 },
 "nbformat": 4,
 "nbformat_minor": 5
}
